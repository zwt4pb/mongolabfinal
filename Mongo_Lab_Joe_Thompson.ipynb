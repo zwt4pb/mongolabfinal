{
  "nbformat": 4,
  "nbformat_minor": 0,
  "metadata": {
    "colab": {
      "provenance": [],
      "authorship_tag": "ABX9TyNcpZ8BUJHXDh23wd4d23A9",
      "include_colab_link": true
    },
    "kernelspec": {
      "name": "python3",
      "display_name": "Python 3"
    },
    "language_info": {
      "name": "python"
    }
  },
  "cells": [
    {
      "cell_type": "markdown",
      "metadata": {
        "id": "view-in-github",
        "colab_type": "text"
      },
      "source": [
        "<a href=\"https://colab.research.google.com/github/zwt4pb/mongolabfinal/blob/main/Mongo_Lab_Joe_Thompson.ipynb\" target=\"_parent\"><img src=\"https://colab.research.google.com/assets/colab-badge.svg\" alt=\"Open In Colab\"/></a>"
      ]
    },
    {
      "cell_type": "code",
      "execution_count": null,
      "metadata": {
        "id": "ioTmmldXXW1n"
      },
      "outputs": [],
      "source": [
        "!pip install pymongo\n",
        "\n",
        "import os\n",
        "import random\n",
        "import datetime\n",
        "import pymongo\n",
        "import pprint\n",
        "import pandas as pd"
      ]
    },
    {
      "cell_type": "code",
      "source": [
        "'''Exercise 1: Connecting to MongoDB\n",
        "Import MongoClient from pymongo.\n",
        "Connect to your local MongoDB instance (or a specified URI if using a remote database...like in the examples here -->https://github.com/jasonwnc/ds2002s24/tree/main/3.%20NoSQL\n",
        "Print a list of databases in your MongoDB instance.'''\n",
        "\n",
        "\n",
        "# Organize arguments for local and remote connections\n",
        "host_name = \"localhost\"\n",
        "port = \"27017\"\n",
        "\n",
        "atlas_cluster_name = \"cluster0.xuibg2h\"\n",
        "atlas_default_dbname = \"sakila\"\n",
        "atlas_user_name = \"ds2002sp23\"\n",
        "atlas_password = \"uva1819\"\n",
        "conn_str = {\n",
        "    \"local\" : f\"mongodb://{host_name}:{port}/\",\n",
        "    \"atlas\" : f\"mongodb+srv://{atlas_user_name}:{atlas_password}@{atlas_cluster_name}.mongodb.net/\"\n",
        "}\n",
        "\n",
        "# Print connection strings\n",
        "print(f\"Local Connection String: {conn_str['local']}\")\n",
        "print(f\"Atlas Connection String: {conn_str['atlas']}\")\n",
        "\n",
        "# Connect to mongo atlas while handling exceptions\n",
        "try:\n",
        "    client = pymongo.MongoClient(conn_str['atlas'])\n",
        "    print(client.list_database_names())\n",
        "except pymongo.errors.ServerSelectionTimeoutError as err:\n",
        "    print(\"Error connecting to MongoDB:\", err)\n"
      ],
      "metadata": {
        "id": "8atgEa8IbrAu"
      },
      "execution_count": null,
      "outputs": []
    },
    {
      "cell_type": "code",
      "source": [
        "'''Exercise 2: Creating and Using a Database\n",
        "Create a database called <yourname>_class\n",
        "Print a list of collections in the database.'''\n",
        "\n",
        "db_name = \"JThompson_class\"\n",
        "db = client[db_name]\n",
        "print(db.list_collection_names())"
      ],
      "metadata": {
        "id": "Ysbjnc389E67"
      },
      "execution_count": null,
      "outputs": []
    },
    {
      "cell_type": "code",
      "source": [
        "'''Exercise 3: Creating a Collection and Inserting Documents\n",
        "Create a collection named students.\n",
        "Insert a single document into the students collection. Let it have 5 key value pairs\n",
        "Insert multiple documents into the students collection in one operation.'''\n",
        "# Create `students` collections\n",
        "students = db[\"students\"]\n",
        "\n",
        "student1 = {\"fname\": \"Joseph\",\n",
        "            \"minitial\": \"B\",\n",
        "            \"lname\": \"Thompson\",\n",
        "            \"studentID\": 115,\n",
        "            \"age\": \"21\"}\n",
        "\n",
        "# Insert single document with 5 key value pairs\n",
        "post_id = students.insert_one(student1)\n",
        "\n",
        "\n",
        "# Insert multiple documents with one operation\n",
        "# Define student information for multiple students\n",
        "students_data = [\n",
        "    {\n",
        "        \"fname\": \"Marshall\",\n",
        "        \"minitial\": \"R\",\n",
        "        \"lname\": \"Epperson\",\n",
        "        \"studentID\": 106,\n",
        "        \"age\": 21\n",
        "    },\n",
        "    {\n",
        "        \"fname\": \"Benjamin\",\n",
        "        \"minitial\": \"A\",\n",
        "        \"lname\": \"D'Amico\",\n",
        "        \"studentID\": 184,\n",
        "        \"age\": 18\n",
        "    },\n",
        "    {\n",
        "        \"fname\": \"Matthew\",\n",
        "        \"minitial\": \"J\",\n",
        "        \"lname\": \"Lauture\",\n",
        "        \"studentID\": 122,\n",
        "        \"age\": 21\n",
        "    },\n",
        "    {\n",
        "        \"fname\": \"Daniel\",\n",
        "        \"minitial\": \"R\",\n",
        "        \"lname\": \"Pappalardo\",\n",
        "        \"studentID\": 167,\n",
        "        \"age\": 19\n",
        "    }]\n",
        "\n",
        "# Insert the documents into the 'students' collection\n",
        "result = students.insert_many(students_data)"
      ],
      "metadata": {
        "id": "tko7WUnX9c4H"
      },
      "execution_count": 56,
      "outputs": []
    },
    {
      "cell_type": "code",
      "source": [
        "'''Exercise 4: Querying Documents\n",
        "Perform a query to find all documents in the students collection.\n",
        "Perform a query to find a document in the students collection with a specific attribute, lake name = mary or something based on the key valu fapl'''\n",
        "\n",
        "# Find all documents in students\n",
        "all_studs = students.find()\n",
        "for stud in all_studs:\n",
        "  print(stud)\n",
        "\n",
        "# Find student with fname Marshall\n",
        "print()\n",
        "print(\"Student named Marshall:\")\n",
        "specific_stud = students.find_one(filter={\"fname\": \"Marshall\"})\n",
        "print(specific_stud)"
      ],
      "metadata": {
        "id": "QEycSMDo9uWf"
      },
      "execution_count": null,
      "outputs": []
    },
    {
      "cell_type": "code",
      "source": [
        "'''Exercise 5: Updating Documents\n",
        "Update a specific document in the students collection.\n",
        "Update multiple documents based on a specific condition.'''\n",
        "\n",
        "filter_criteria = {\"fname\": \"Joseph\"}\n",
        "students.update_one(filter_criteria, {\"$set\": {\"age\": 23}})\n",
        "\n",
        "# if age is greater than 22, set degree to graduated\n",
        "filter_criteria = {\"age\" : {\"$lt\": 22}}\n",
        "students.update_many(filter_criteria, {\"$set\": {\"degree\": \"Undergrad\"}})"
      ],
      "metadata": {
        "id": "9Ld_5lZy93kF"
      },
      "execution_count": null,
      "outputs": []
    },
    {
      "cell_type": "code",
      "source": [
        "'''Exercise 6: Deleting Documents\n",
        "Delete a specific document from the students collection.\n",
        "Delete multiple documents based on a specific condition.'''\n",
        "\n",
        "students.delete_one({\"lname\": \"Pappalardo\"})\n",
        "\n",
        "filter_criteria = {\"age\": {\"$gt\": 20}}\n",
        "students.delete_many(filter_criteria)\n",
        "\n",
        "print()\n",
        "print(\"Updated database:\")\n",
        "all_studs = students.find()\n",
        "for stud in all_studs:\n",
        "  print(stud)"
      ],
      "metadata": {
        "id": "v-Fo3ye19qSB"
      },
      "execution_count": null,
      "outputs": []
    }
  ]
}